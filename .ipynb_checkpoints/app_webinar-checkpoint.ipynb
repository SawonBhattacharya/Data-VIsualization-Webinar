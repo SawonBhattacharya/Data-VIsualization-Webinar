{
 "cells": [
  {
   "cell_type": "code",
   "execution_count": 4,
   "metadata": {},
   "outputs": [],
   "source": [
    "import dash\n",
    "import dash_html_components as html\n",
    "import dash_core_components as dcc\n",
    "import plotly.graph_objects as go\n",
    "import pandas as pd\n",
    "from dash.dependencies import Input, Output\n"
   ]
  },
  {
   "cell_type": "code",
   "execution_count": 5,
   "metadata": {},
   "outputs": [],
   "source": [
    "# Load data\n",
    "df = pd.read_csv('data/stockdata.csv', index_col=0, parse_dates=True)\n",
    "df.index = pd.to_datetime(df['Date'])\n"
   ]
  },
  {
   "cell_type": "code",
   "execution_count": 6,
   "metadata": {},
   "outputs": [],
   "source": [
    "# Initialize the app\n",
    "app = dash.Dash(__name__)\n",
    "app.config.suppress_callback_exceptions = True\n"
   ]
  },
  {
   "cell_type": "code",
   "execution_count": 7,
   "metadata": {},
   "outputs": [],
   "source": [
    "def get_options(list_stocks):\n",
    "    dict_list = []\n",
    "    for i in list_stocks:\n",
    "        dict_list.append({'label': i, 'value': i})\n",
    "\n",
    "    return dict_list"
   ]
  },
  {
   "cell_type": "code",
   "execution_count": 8,
   "metadata": {},
   "outputs": [],
   "source": [
    "app.layout = html.Div(\n",
    "    children=[\n",
    "        html.Div(className='row',\n",
    "                 children=[\n",
    "                    html.Div(className='four columns div-user-controls',\n",
    "                             children=[\n",
    "                                 html.H2('DASH - STOCK PRICES'),\n",
    "                                 html.P('Visualising time series with Plotly - Dash.'),\n",
    "                                 html.P('Pick one or more stocks from the dropdown below.'),\n",
    "                                 html.Div(\n",
    "                                     className='div-for-dropdown',\n",
    "                                     children=[\n",
    "                                         dcc.Dropdown(id='stockselector', options=get_options(df['stock'].unique()),\n",
    "                                                      multi=True, value=[df['stock'].sort_values()[0]],\n",
    "                                                      style={'backgroundColor': '#1E1E1E'},\n",
    "                                                      className='stockselector'\n",
    "                                                      ),\n",
    "                                     ],\n",
    "                                     style={'color': '#1E1E1E'})\n",
    "                                ]\n",
    "                             ),\n",
    "                    html.Div(className='eight columns div-for-charts bg-grey',\n",
    "                             children=[\n",
    "                                 dcc.Graph(id='timeseries', config={'displayModeBar': False}, animate=True)\n",
    "                             ])\n",
    "                              ])\n",
    "        ]\n",
    "\n",
    ")\n"
   ]
  },
  {
   "cell_type": "code",
   "execution_count": 9,
   "metadata": {},
   "outputs": [
    {
     "name": "stdout",
     "output_type": "stream",
     "text": [
      "Running on http://127.0.0.1:8050/\n",
      "Debugger PIN: 247-171-524\n",
      " * Serving Flask app \"__main__\" (lazy loading)\n",
      " * Environment: production\n",
      "   WARNING: This is a development server. Do not use it in a production deployment.\n",
      "   Use a production WSGI server instead.\n",
      " * Debug mode: on\n"
     ]
    },
    {
     "ename": "SystemExit",
     "evalue": "1",
     "output_type": "error",
     "traceback": [
      "An exception has occurred, use %tb to see the full traceback.\n",
      "\u001b[1;31mSystemExit\u001b[0m\u001b[1;31m:\u001b[0m 1\n"
     ]
    },
    {
     "name": "stderr",
     "output_type": "stream",
     "text": [
      "C:\\Users\\SAWON\\anaconda3\\lib\\site-packages\\IPython\\core\\interactiveshell.py:3339: UserWarning: To exit: use 'exit', 'quit', or Ctrl-D.\n",
      "  warn(\"To exit: use 'exit', 'quit', or Ctrl-D.\", stacklevel=1)\n"
     ]
    }
   ],
   "source": [
    "# Callback for timeseries price\n",
    "@app.callback(Output('timeseries', 'figure'),\n",
    "              [Input('stockselector', 'value')])\n",
    "def update_graph(selected_dropdown_value):\n",
    "    trace1 = []\n",
    "    df_sub = df\n",
    "    for stock in selected_dropdown_value:\n",
    "        trace1.append(go.Scatter(x=df_sub[df_sub['stock'] == stock].index,\n",
    "                                 y=df_sub[df_sub['stock'] == stock]['value'],\n",
    "                                 mode='lines',\n",
    "                                 opacity=0.7,\n",
    "                                 name=stock,\n",
    "                                 textposition='bottom center'))\n",
    "    traces = [trace1]\n",
    "    data = [val for sublist in traces for val in sublist]\n",
    "    figure = {'data': data,\n",
    "              'layout': go.Layout(\n",
    "                  colorway=[\"#5E0DAC\", '#FF4F00', '#375CB1', '#FF7400', '#FFF400', '#FF0056'],\n",
    "                  template='plotly_dark',\n",
    "                  paper_bgcolor='rgba(0, 0, 0, 0)',\n",
    "                  plot_bgcolor='rgba(0, 0, 0, 0)',\n",
    "                  margin={'b': 15},\n",
    "                  hovermode='x',\n",
    "                  autosize=True,\n",
    "                  title={'text': 'Stock Prices', 'font': {'color': 'white'}, 'x': 0.5},\n",
    "                  xaxis={'range': [df_sub.index.min(), df_sub.index.max()]},\n",
    "              ),\n",
    "\n",
    "              }\n",
    "\n",
    "    return figure\n",
    "\n",
    "\n",
    "if __name__ == '__main__':\n",
    "    app.run_server(debug=True)"
   ]
  },
  {
   "cell_type": "code",
   "execution_count": null,
   "metadata": {},
   "outputs": [],
   "source": []
  }
 ],
 "metadata": {
  "kernelspec": {
   "display_name": "Python 3",
   "language": "python",
   "name": "python3"
  }
 },
 "nbformat": 4,
 "nbformat_minor": 4
}
